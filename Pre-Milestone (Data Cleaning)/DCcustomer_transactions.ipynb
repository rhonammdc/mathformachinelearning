{
 "cells": [
  {
   "cell_type": "code",
   "execution_count": null,
   "metadata": {},
   "outputs": [],
   "source": [
    "# Import panda, numpy, matplotlib.pyplot, seaborn, ipywidgets "
   ]
  },
  {
   "cell_type": "code",
   "execution_count": 1,
   "metadata": {},
   "outputs": [],
   "source": [
    "import pandas as pd\n",
    "import numpy as np"
   ]
  },
  {
   "cell_type": "code",
   "execution_count": null,
   "metadata": {},
   "outputs": [],
   "source": [
    "# Import dataset"
   ]
  },
  {
   "cell_type": "code",
   "execution_count": 3,
   "metadata": {},
   "outputs": [],
   "source": [
    "df = pd.read_csv('C:/Users/Acer/Downloads/math for machine learning/customer_transactions_contaminated.csv')"
   ]
  },
  {
   "cell_type": "code",
   "execution_count": null,
   "metadata": {},
   "outputs": [],
   "source": [
    "# Count initial duplicates"
   ]
  },
  {
   "cell_type": "code",
   "execution_count": 4,
   "metadata": {},
   "outputs": [
    {
     "name": "stdout",
     "output_type": "stream",
     "text": [
      "Initial duplicate count: 185\n"
     ]
    }
   ],
   "source": [
    "initial_duplicate_count = df.duplicated().sum()\n",
    "print(f'Initial duplicate count: {initial_duplicate_count}')"
   ]
  },
  {
   "cell_type": "code",
   "execution_count": null,
   "metadata": {},
   "outputs": [],
   "source": [
    "# Drop duplicate rows"
   ]
  },
  {
   "cell_type": "code",
   "execution_count": 5,
   "metadata": {},
   "outputs": [],
   "source": [
    "df_cleaned = df.drop_duplicates()"
   ]
  },
  {
   "cell_type": "code",
   "execution_count": null,
   "metadata": {},
   "outputs": [],
   "source": [
    "# Verify duplicate count after dropping"
   ]
  },
  {
   "cell_type": "code",
   "execution_count": 6,
   "metadata": {},
   "outputs": [
    {
     "name": "stdout",
     "output_type": "stream",
     "text": [
      "Duplicate count after dropping: 0\n"
     ]
    }
   ],
   "source": [
    "duplicate_count_after_dropping = df_cleaned.duplicated().sum()\n",
    "print(f'Duplicate count after dropping: {duplicate_count_after_dropping}')"
   ]
  },
  {
   "cell_type": "code",
   "execution_count": null,
   "metadata": {},
   "outputs": [],
   "source": [
    "# Count null values in each column"
   ]
  },
  {
   "cell_type": "code",
   "execution_count": 7,
   "metadata": {},
   "outputs": [
    {
     "name": "stdout",
     "output_type": "stream",
     "text": [
      "Null values in each column:\n",
      "CustomerID           0\n",
      "TransactionID        0\n",
      "TransactionDate      0\n",
      "Amount             283\n",
      "ProductCategory    282\n",
      "PaymentMethod        0\n",
      "dtype: int64\n"
     ]
    }
   ],
   "source": [
    "null_counts = df_cleaned.isnull().sum()\n",
    "print('Null values in each column:')\n",
    "print(null_counts)"
   ]
  },
  {
   "cell_type": "code",
   "execution_count": null,
   "metadata": {},
   "outputs": [],
   "source": [
    "# List of null and non-numeric values"
   ]
  },
  {
   "cell_type": "code",
   "execution_count": 8,
   "metadata": {},
   "outputs": [
    {
     "name": "stdout",
     "output_type": "stream",
     "text": [
      "Null and Non-numeric values:\n",
      "Free, -100, -100.0, NaN\n"
     ]
    }
   ],
   "source": [
    "df = pd.DataFrame(df)\n",
    "\n",
    "def is_numeric(value):\n",
    "    try:\n",
    "        float(value)\n",
    "        return True\n",
    "    except (ValueError, TypeError):\n",
    "        return False\n",
    "\n",
    "non_numeric_values = df[~df['Amount'].apply(is_numeric)]\n",
    "nan_values = df[df['Amount'].isna()]\n",
    "negative_values = df[df['Amount'].apply(lambda x: is_numeric(x) and float(x) < 0)]\n",
    "all_relevant_values = pd.concat([non_numeric_values, nan_values, negative_values])\n",
    "unique_values = all_relevant_values['Amount'].unique()\n",
    "\n",
    "result_string = ', '.join(str(value) for value in unique_values if pd.notna(value)) + (', NaN' if nan_values.shape[0] > 0 else '')\n",
    "\n",
    "print('Null and Non-numeric values:')\n",
    "print(result_string)"
   ]
  },
  {
   "cell_type": "code",
   "execution_count": null,
   "metadata": {},
   "outputs": [],
   "source": [
    "# Replace Free with 0"
   ]
  },
  {
   "cell_type": "code",
   "execution_count": 9,
   "metadata": {},
   "outputs": [],
   "source": [
    "df['Amount'] = df['Amount'].replace('Free', 0)\n",
    "\n",
    "def is_numeric(value):\n",
    "    try:\n",
    "        float(value)  # Attempt to convert to float\n",
    "        return True\n",
    "    except (ValueError, TypeError):\n",
    "        return False\n",
    "\n",
    "non_numeric_values = df[~df['Amount'].apply(is_numeric)]\n",
    "nan_values = df[df['Amount'].isna()]\n",
    "negative_values = df[df['Amount'].apply(lambda x: is_numeric(x) and float(x) < 0)]\n",
    "all_relevant_values = pd.concat([non_numeric_values, nan_values, negative_values])\n",
    "unique_values = all_relevant_values['Amount'].unique()\n",
    "\n",
    "result_string = ', '.join(str(value) for value in unique_values if pd.notna(value)) + (', NaN' if nan_values.shape[0] > 0 else '')"
   ]
  },
  {
   "cell_type": "code",
   "execution_count": null,
   "metadata": {},
   "outputs": [],
   "source": [
    "#Verify change"
   ]
  },
  {
   "cell_type": "code",
   "execution_count": 10,
   "metadata": {},
   "outputs": [
    {
     "name": "stdout",
     "output_type": "stream",
     "text": [
      "Null and Non-numeric values:\n",
      "-100, -100.0, NaN\n"
     ]
    }
   ],
   "source": [
    "print('Null and Non-numeric values:')\n",
    "print(result_string)"
   ]
  },
  {
   "cell_type": "code",
   "execution_count": null,
   "metadata": {},
   "outputs": [],
   "source": [
    "# Check current data types of the DataFrame"
   ]
  },
  {
   "cell_type": "code",
   "execution_count": 11,
   "metadata": {},
   "outputs": [
    {
     "name": "stdout",
     "output_type": "stream",
     "text": [
      "Current data types:\n",
      "CustomerID         object\n",
      "TransactionID      object\n",
      "TransactionDate    object\n",
      "Amount             object\n",
      "ProductCategory    object\n",
      "PaymentMethod      object\n",
      "dtype: object\n"
     ]
    }
   ],
   "source": [
    "print('Current data types:')\n",
    "print(df_cleaned.dtypes)"
   ]
  },
  {
   "cell_type": "code",
   "execution_count": null,
   "metadata": {},
   "outputs": [],
   "source": [
    "# Convert data types"
   ]
  },
  {
   "cell_type": "code",
   "execution_count": 12,
   "metadata": {},
   "outputs": [],
   "source": [
    "df_cleaned['Amount'] = pd.to_numeric(df_cleaned['Amount'], errors='coerce')\n",
    "df_cleaned['TransactionDate'] = pd.to_datetime(df_cleaned['TransactionDate'], errors='coerce')\n",
    "df_cleaned['ProductCategory'] = df_cleaned['ProductCategory'].astype('category')\n",
    "df_cleaned['PaymentMethod'] = df_cleaned['PaymentMethod'].astype('category')"
   ]
  },
  {
   "cell_type": "code",
   "execution_count": 13,
   "metadata": {},
   "outputs": [
    {
     "name": "stdout",
     "output_type": "stream",
     "text": [
      "\n",
      "Updated data types after conversion:\n",
      "CustomerID                 object\n",
      "TransactionID              object\n",
      "TransactionDate    datetime64[ns]\n",
      "Amount                    float64\n",
      "ProductCategory          category\n",
      "PaymentMethod            category\n",
      "dtype: object\n"
     ]
    }
   ],
   "source": [
    "print('\\nUpdated data types after conversion:')\n",
    "print(df_cleaned.dtypes)"
   ]
  },
  {
   "cell_type": "code",
   "execution_count": null,
   "metadata": {},
   "outputs": [],
   "source": [
    "# Save the cleaned DataFrame to a new CSV file"
   ]
  },
  {
   "cell_type": "code",
   "execution_count": 14,
   "metadata": {},
   "outputs": [],
   "source": [
    "df_cleaned.to_csv('DCcustomer_transactions.csv', index=False)"
   ]
  }
 ],
 "metadata": {
  "kernelspec": {
   "display_name": "Python 3",
   "language": "python",
   "name": "python3"
  },
  "language_info": {
   "codemirror_mode": {
    "name": "ipython",
    "version": 3
   },
   "file_extension": ".py",
   "mimetype": "text/x-python",
   "name": "python",
   "nbconvert_exporter": "python",
   "pygments_lexer": "ipython3",
   "version": "3.12.6"
  }
 },
 "nbformat": 4,
 "nbformat_minor": 2
}
